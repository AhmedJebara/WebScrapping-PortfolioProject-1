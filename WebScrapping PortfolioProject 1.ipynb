{
 "cells": [
  {
   "cell_type": "markdown",
   "id": "38ff1c2f",
   "metadata": {},
   "source": [
    "    # Python Scrapping from : www.wuzzuf.com"
   ]
  },
  {
   "cell_type": "markdown",
   "id": "a06c1151",
   "metadata": {},
   "source": [
    "# Importing libraries and methods"
   ]
  },
  {
   "cell_type": "code",
   "execution_count": 1,
   "id": "deb63f9b",
   "metadata": {},
   "outputs": [],
   "source": [
    "import numpy as np\n",
    "import pandas as pd\n",
    "import matplotlib.pyplot as plt\n",
    "%matplotlib inline\n",
    "import seaborn as sns\n",
    "sns.set()\n"
   ]
  },
  {
   "cell_type": "code",
   "execution_count": 2,
   "id": "550e4912",
   "metadata": {},
   "outputs": [
    {
     "name": "stdout",
     "output_type": "stream",
     "text": [
      "Requirement already satisfied: bs4 in c:\\users\\jebar\\anaconda3\\lib\\site-packages (0.0.1)\n",
      "Requirement already satisfied: beautifulsoup4 in c:\\users\\jebar\\anaconda3\\lib\\site-packages (from bs4) (4.12.2)\n",
      "Requirement already satisfied: soupsieve>1.2 in c:\\users\\jebar\\anaconda3\\lib\\site-packages (from beautifulsoup4->bs4) (2.4)\n",
      "Note: you may need to restart the kernel to use updated packages.\n"
     ]
    }
   ],
   "source": [
    "pip install bs4"
   ]
  },
  {
   "cell_type": "markdown",
   "id": "2abe52eb",
   "metadata": {},
   "source": []
  },
  {
   "cell_type": "code",
   "execution_count": 3,
   "id": "0898c808",
   "metadata": {},
   "outputs": [],
   "source": [
    "from bs4 import BeautifulSoup as bs\n",
    "from urllib.request import urlopen\n"
   ]
  },
  {
   "cell_type": "markdown",
   "id": "35610ce2",
   "metadata": {},
   "source": [
    "# Inputing the url"
   ]
  },
  {
   "cell_type": "code",
   "execution_count": 4,
   "id": "1ac9b9d4",
   "metadata": {},
   "outputs": [],
   "source": [
    "url='https://wuzzuf.net/search/jobs/?a=hpb%7Cspbg&q=illustrator'\n"
   ]
  },
  {
   "cell_type": "markdown",
   "id": "4e541825",
   "metadata": {},
   "source": [
    "# Creat a client-based request to get the url "
   ]
  },
  {
   "cell_type": "code",
   "execution_count": 5,
   "id": "8887a59a",
   "metadata": {},
   "outputs": [],
   "source": [
    "client = urlopen(url)"
   ]
  },
  {
   "cell_type": "markdown",
   "id": "48ff814f",
   "metadata": {},
   "source": [
    "# Getting the html code of the full page "
   ]
  },
  {
   "cell_type": "code",
   "execution_count": 6,
   "id": "00d99418",
   "metadata": {},
   "outputs": [],
   "source": [
    "html = client.read()\n",
    "\n"
   ]
  },
  {
   "cell_type": "markdown",
   "id": "388d8deb",
   "metadata": {},
   "source": [
    "# Closing the request "
   ]
  },
  {
   "cell_type": "code",
   "execution_count": 7,
   "id": "f468e42b",
   "metadata": {},
   "outputs": [],
   "source": [
    "client.close()"
   ]
  },
  {
   "cell_type": "markdown",
   "id": "0859a7ea",
   "metadata": {},
   "source": [
    "# Creating the html parser using beautifulsoup"
   ]
  },
  {
   "cell_type": "code",
   "execution_count": 8,
   "id": "64d787ca",
   "metadata": {},
   "outputs": [],
   "source": [
    "soup = bs(html,\"html.parser\")\n"
   ]
  },
  {
   "cell_type": "markdown",
   "id": "d8e0da60",
   "metadata": {},
   "source": [
    "# Creating a container for the needed data\n"
   ]
  },
  {
   "cell_type": "code",
   "execution_count": 9,
   "id": "e5654183",
   "metadata": {},
   "outputs": [
    {
     "data": {
      "text/plain": [
       "'<div class=\"css-1gatmva e1v1l3u10\">\\n <style data-emotion=\"css pkv5jc\">\\n  .css-pkv5jc{position:relative;min-height:60px;}\\n </style>\\n <div class=\"css-pkv5jc\">\\n  <a href=\"https://wuzzuf.net/jobs/careers/Arabic-Localizer-Egypt-2790\" rel=\"noreferrer\" target=\"_blank\">\\n   <style data-emotion=\"css 17095x3\">\\n    .css-17095x3{position:absolute;right:0;top:0;width:60px;height:60px;object-fit:contain;object-position:center center;}\\n   </style>\\n  </a>\\n  <style data-emotion=\"css laomuu\">\\n   .css-laomuu{padding-right:60px;}\\n  </style>\\n  <div class=\"css-laomuu\">\\n   <style data-emotion=\"css m604qf\">\\n    .css-m604qf{font-size:16px;font-weight:600;font-style:normal;letter-spacing:-0.4px;line-height:24px;color:#0055D9;margin:0;}\\n   </style>\\n   <h2 class=\"css-m604qf\">\\n    <style data-emotion=\"css o171kl\">\\n     .css-o171kl{-webkit-text-decoration:none;text-decoration:none;color:inherit;}\\n    </style>\\n    <a class=\"css-o171kl\" href=\"https://wuzzuf.net/jobs/p/RbSoIpWA63qu-2D-Illustrator---Alexandria-Arabic-Localizer-Alexandria-Egypt\" rel=\"noreferrer\" target=\"_blank\">\\n     2D Illustrator - Alexandria\\n    </a>\\n   </h2>\\n   <style data-emotion=\"css d7j1kk\">\\n    .css-d7j1kk{margin-bottom:8px;overflow:hidden;text-overflow:ellipsis;}\\n   </style>\\n   <div class=\"css-d7j1kk\">\\n    <style data-emotion=\"css 17s97q8\">\\n     .css-17s97q8{font-size:12px;font-weight:600;font-style:normal;letter-spacing:-0.27px;line-height:19px;color:#001433;-webkit-text-decoration:none;text-decoration:none;}\\n    </style>\\n    <a class=\"css-17s97q8\" href=\"https://wuzzuf.net/jobs/careers/Arabic-Localizer-Egypt-2790\" rel=\"noreferrer\" target=\"_blank\">\\n     Arabic Localizer -\\n    </a>\\n    <style data-emotion=\"css 5wys0k\">\\n     .css-5wys0k{font-size:12px;font-weight:600;font-style:normal;letter-spacing:-0.27px;line-height:19px;color:#4D6182;}\\n    </style>\\n    <span class=\"css-5wys0k\">\\n     San Stefano,\\n     <!-- -->\\n     Alexandria,\\n     <!-- -->\\n     Egypt\\n    </span>\\n    <style data-emotion=\"css do6t5g\">\\n     .css-do6t5g{font-size:12px;font-weight:400;font-style:normal;letter-spacing:-0.27px;line-height:19px;color:#808EA5;}\\n    </style>\\n    <div class=\"css-do6t5g\">\\n     24 days\\n     <!-- -->\\n     ago\\n    </div>\\n   </div>\\n  </div>\\n  <style data-emotion=\"css y4udm8\">\\n   .css-y4udm8{font-size:13px;font-weight:600;font-style:normal;letter-spacing:-0.3px;line-height:20px;color:#4D6182;}\\n  </style>\\n  <div class=\"css-y4udm8\">\\n   <style data-emotion=\"css 1lh32fc\">\\n    .css-1lh32fc{display:-webkit-box;display:-webkit-flex;display:-ms-flexbox;display:flex;margin-bottom:8px;-webkit-align-items:center;-webkit-box-align:center;-ms-flex-align:center;align-items:center;-webkit-box-flex-wrap:wrap;-webkit-flex-wrap:wrap;-ms-flex-wrap:wrap;flex-wrap:wrap;}\\n   </style>\\n   <div class=\"css-1lh32fc\">\\n    <style data-emotion=\"css n2jc4m\">\\n     .css-n2jc4m{display:-webkit-inline-box;display:-webkit-inline-flex;display:-ms-inline-flexbox;display:inline-flex;-webkit-align-items:center;-webkit-box-align:center;-ms-flex-align:center;align-items:center;-webkit-text-decoration:none;text-decoration:none;color:inherit;margin-bottom:4px;}\\n    </style>\\n    <a class=\"css-n2jc4m\" href=\"/a/Full-Time-Jobs-in-Egypt\">\\n     <style data-emotion=\"css adtuo7\">\\n      .css-adtuo7{cursor:pointer;padding:0 4px;border-radius:4px;}\\n     </style>\\n     <style data-emotion=\"css 1ve4b75\">\\n      .css-1ve4b75{font-size:12px;font-weight:600;display:-webkit-inline-box;display:-webkit-inline-flex;display:-ms-inline-flexbox;display:inline-flex;-webkit-align-items:center;-webkit-box-align:center;-ms-flex-align:center;align-items:center;min-height:20px;margin-right:4px;border-radius:2px;max-width:196px;white-space:nowrap;overflow:hidden;cursor:default;text-overflow:ellipsis;padding:2px 4px;background-color:#EBEDF0;color:#001433;cursor:pointer;padding:0 4px;border-radius:4px;}\\n     </style>\\n     <span class=\"css-1ve4b75 eoyjyou0\">\\n      Full Time\\n     </span>\\n    </a>\\n   </div>\\n   <div>\\n    <a class=\"css-o171kl\" href=\"/a/Entry-Level-Jobs-in-Egypt\">\\n     Entry Level\\n    </a>\\n    <span>\\n     ·\\n     <!-- -->\\n     1 - 3 Yrs of Exp\\n    </span>\\n    <a class=\"css-o171kl\" href=\"/a/Creative-Design-Art-Jobs-in-Egypt\">\\n     <!-- -->\\n     ·\\n     <!-- -->\\n     Creative/Design/Art\\n    </a>\\n    <!-- -->\\n    ·\\n    <!-- -->\\n    <style data-emotion=\"css 5x9pm1\">\\n     .css-5x9pm1{-webkit-text-decoration:none;text-decoration:none;color:inherit;max-width:calc(100vw / 2 - 32px);white-space:nowrap;overflow:hidden;text-overflow:ellipsis;display:-webkit-inline-box;display:-webkit-inline-flex;display:-ms-inline-flexbox;display:inline-flex;}\\n    </style>\\n    <a class=\"css-5x9pm1\" href=\"/a/Adobe-Illustrator-Jobs-in-Egypt\">\\n     <span>\\n      <span>\\n       Adobe\\n      </span>\\n      <strong class=\"highlight\">\\n       Illustrator\\n      </strong>\\n     </span>\\n    </a>\\n    <a class=\"css-5x9pm1\" href=\"/a/Graphic-Design-Jobs-in-Egypt\">\\n     <!-- -->\\n     ·\\n     <!-- -->\\n     Graphic Design\\n    </a>\\n    <a class=\"css-5x9pm1\" href=\"/a/Design-Jobs-in-Egypt\">\\n     <!-- -->\\n     ·\\n     <!-- -->\\n     Design\\n    </a>\\n    <a class=\"css-5x9pm1\" href=\"/a/Adobe-Photoshop-Jobs-in-Egypt\">\\n     <!-- -->\\n     ·\\n     <!-- -->\\n     Adobe Photoshop\\n    </a>\\n    <a class=\"css-5x9pm1\" href=\"/a/Characters-Design-Jobs-in-Egypt\">\\n     <!-- -->\\n     ·\\n     <!-- -->\\n     Characters Design\\n    </a>\\n    <a class=\"css-5x9pm1\" href=\"/a/2D-Characters-Jobs-in-Egypt\">\\n     <!-- -->\\n     ·\\n     <!-- -->\\n     2D Characters\\n    </a>\\n    <a class=\"css-5x9pm1\" href=\"/a/Photoshop-Jobs-in-Egypt\">\\n     <!-- -->\\n     ·\\n     <!-- -->\\n     Photoshop\\n    </a>\\n    <!-- -->\\n    ·\\n    <!-- -->\\n    <a class=\"css-5x9pm1\" href=\"/a/Illustrator-Jobs-in-Egypt\">\\n     <span>\\n      <strong class=\"highlight\">\\n       Illustrator\\n      </strong>\\n     </span>\\n    </a>\\n    <a class=\"css-5x9pm1\" href=\"/a/2D-Jobs-in-Egypt\">\\n     <!-- -->\\n     ·\\n     <!-- -->\\n     2D\\n    </a>\\n   </div>\\n  </div>\\n </div>\\n</div>\\n'"
      ]
     },
     "execution_count": 9,
     "metadata": {},
     "output_type": "execute_result"
    }
   ],
   "source": [
    "containers = soup.find_all(\"div\",{\"class\":\"css-1gatmva e1v1l3u10\"})\n",
    "bs.prettify(containers[0])"
   ]
  },
  {
   "cell_type": "markdown",
   "id": "57c73c7f",
   "metadata": {},
   "source": [
    "# Accessing page elements and bringing it all together"
   ]
  },
  {
   "cell_type": "code",
   "execution_count": 10,
   "id": "369f4cb4",
   "metadata": {},
   "outputs": [],
   "source": [
    "file = open(\"wuzufJobScrapping.csv\",\"w\")\n",
    "headers=\"job_title,company_name,job_type\\n\"\n",
    "file.write(headers)\n",
    "for container in containers : \n",
    "    jobtitle=container.findAll(\"h2\",{\"class\":\"css-m604qf\"})\n",
    "    job_title=jobtitle[0].text.strip()\n",
    "    companyname=container.findAll(\"a\",{\"class\":\"css-17s97q8\"})\n",
    "    company_name=companyname[0].text.strip()\n",
    "    jobtype=container.findAll(\"div\",{\"class\":\"css-1lh32fc\"})\n",
    "    job_type=jobtype[0].text.strip()\n",
    "    file.write(job_title+','+company_name+','+job_type+'\\n')\n",
    "file.close()\n"
   ]
  },
  {
   "cell_type": "markdown",
   "id": "f36967f8",
   "metadata": {},
   "source": [
    "# Inputing the file into pandas "
   ]
  },
  {
   "cell_type": "code",
   "execution_count": 11,
   "id": "ea314223",
   "metadata": {},
   "outputs": [],
   "source": [
    "wuzuf = pd.read_csv(\"wuzufJobScrapping.csv\")"
   ]
  },
  {
   "cell_type": "code",
   "execution_count": 12,
   "id": "3526876c",
   "metadata": {},
   "outputs": [
    {
     "data": {
      "text/html": [
       "<div>\n",
       "<style scoped>\n",
       "    .dataframe tbody tr th:only-of-type {\n",
       "        vertical-align: middle;\n",
       "    }\n",
       "\n",
       "    .dataframe tbody tr th {\n",
       "        vertical-align: top;\n",
       "    }\n",
       "\n",
       "    .dataframe thead th {\n",
       "        text-align: right;\n",
       "    }\n",
       "</style>\n",
       "<table border=\"1\" class=\"dataframe\">\n",
       "  <thead>\n",
       "    <tr style=\"text-align: right;\">\n",
       "      <th></th>\n",
       "      <th>job_title</th>\n",
       "      <th>company_name</th>\n",
       "      <th>job_type</th>\n",
       "    </tr>\n",
       "  </thead>\n",
       "  <tbody>\n",
       "    <tr>\n",
       "      <th>0</th>\n",
       "      <td>2D Illustrator - Alexandria</td>\n",
       "      <td>Arabic Localizer -</td>\n",
       "      <td>Full Time</td>\n",
       "    </tr>\n",
       "    <tr>\n",
       "      <th>1</th>\n",
       "      <td>Graphic Designer</td>\n",
       "      <td>Energya Cables -</td>\n",
       "      <td>Full Time</td>\n",
       "    </tr>\n",
       "    <tr>\n",
       "      <th>2</th>\n",
       "      <td>Senior Graphic Designer</td>\n",
       "      <td>AEG -</td>\n",
       "      <td>Full Time</td>\n",
       "    </tr>\n",
       "    <tr>\n",
       "      <th>3</th>\n",
       "      <td>2 D Designer (Full-time)</td>\n",
       "      <td>Scope IMS -</td>\n",
       "      <td>Full Time</td>\n",
       "    </tr>\n",
       "    <tr>\n",
       "      <th>4</th>\n",
       "      <td>Graphic Designer</td>\n",
       "      <td>Grand Plast  -</td>\n",
       "      <td>Full Time</td>\n",
       "    </tr>\n",
       "    <tr>\n",
       "      <th>5</th>\n",
       "      <td>Graphic Designer</td>\n",
       "      <td>El sewedy Trading  -</td>\n",
       "      <td>Full Time</td>\n",
       "    </tr>\n",
       "    <tr>\n",
       "      <th>6</th>\n",
       "      <td>Graphic Designer</td>\n",
       "      <td>Confidential -</td>\n",
       "      <td>Full Time</td>\n",
       "    </tr>\n",
       "    <tr>\n",
       "      <th>7</th>\n",
       "      <td>Senior Motion Graphic Designer</td>\n",
       "      <td>Skillitt -</td>\n",
       "      <td>Full Time</td>\n",
       "    </tr>\n",
       "    <tr>\n",
       "      <th>8</th>\n",
       "      <td>Graphic Designer</td>\n",
       "      <td>Yousry group -</td>\n",
       "      <td>Full Time</td>\n",
       "    </tr>\n",
       "    <tr>\n",
       "      <th>9</th>\n",
       "      <td>Senior Graphic Designer</td>\n",
       "      <td>Zain International Group -</td>\n",
       "      <td>Full Time</td>\n",
       "    </tr>\n",
       "    <tr>\n",
       "      <th>10</th>\n",
       "      <td>Graphic Designer-Internship</td>\n",
       "      <td>Osolutions -</td>\n",
       "      <td>Internship</td>\n",
       "    </tr>\n",
       "    <tr>\n",
       "      <th>11</th>\n",
       "      <td>Desktop Publishing Specialist (DTP)</td>\n",
       "      <td>All Localized -</td>\n",
       "      <td>Full Time</td>\n",
       "    </tr>\n",
       "    <tr>\n",
       "      <th>12</th>\n",
       "      <td>Graphic Designer</td>\n",
       "      <td>World Trip Deal  -</td>\n",
       "      <td>Full Time</td>\n",
       "    </tr>\n",
       "    <tr>\n",
       "      <th>13</th>\n",
       "      <td>Fashion Designer</td>\n",
       "      <td>A2Z Lingerie -</td>\n",
       "      <td>Full Time</td>\n",
       "    </tr>\n",
       "    <tr>\n",
       "      <th>14</th>\n",
       "      <td>Fashion Designer</td>\n",
       "      <td>Tie House -</td>\n",
       "      <td>Full Time</td>\n",
       "    </tr>\n",
       "  </tbody>\n",
       "</table>\n",
       "</div>"
      ],
      "text/plain": [
       "                              job_title                company_name  \\\n",
       "0           2D Illustrator - Alexandria          Arabic Localizer -   \n",
       "1                      Graphic Designer            Energya Cables -   \n",
       "2               Senior Graphic Designer                       AEG -   \n",
       "3              2 D Designer (Full-time)                 Scope IMS -   \n",
       "4                      Graphic Designer              Grand Plast  -   \n",
       "5                      Graphic Designer        El sewedy Trading  -   \n",
       "6                      Graphic Designer              Confidential -   \n",
       "7        Senior Motion Graphic Designer                  Skillitt -   \n",
       "8                      Graphic Designer              Yousry group -   \n",
       "9               Senior Graphic Designer  Zain International Group -   \n",
       "10          Graphic Designer-Internship                Osolutions -   \n",
       "11  Desktop Publishing Specialist (DTP)             All Localized -   \n",
       "12                     Graphic Designer          World Trip Deal  -   \n",
       "13                     Fashion Designer              A2Z Lingerie -   \n",
       "14                     Fashion Designer                 Tie House -   \n",
       "\n",
       "      job_type  \n",
       "0    Full Time  \n",
       "1    Full Time  \n",
       "2    Full Time  \n",
       "3    Full Time  \n",
       "4    Full Time  \n",
       "5    Full Time  \n",
       "6    Full Time  \n",
       "7    Full Time  \n",
       "8    Full Time  \n",
       "9    Full Time  \n",
       "10  Internship  \n",
       "11   Full Time  \n",
       "12   Full Time  \n",
       "13   Full Time  \n",
       "14   Full Time  "
      ]
     },
     "execution_count": 12,
     "metadata": {},
     "output_type": "execute_result"
    }
   ],
   "source": [
    "wuzuf"
   ]
  },
  {
   "cell_type": "markdown",
   "id": "3ba8e48c",
   "metadata": {},
   "source": [
    "# end"
   ]
  }
 ],
 "metadata": {
  "kernelspec": {
   "display_name": "Python 3 (ipykernel)",
   "language": "python",
   "name": "python3"
  },
  "language_info": {
   "codemirror_mode": {
    "name": "ipython",
    "version": 3
   },
   "file_extension": ".py",
   "mimetype": "text/x-python",
   "name": "python",
   "nbconvert_exporter": "python",
   "pygments_lexer": "ipython3",
   "version": "3.11.4"
  }
 },
 "nbformat": 4,
 "nbformat_minor": 5
}
